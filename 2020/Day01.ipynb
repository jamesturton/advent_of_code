{
 "metadata": {
  "language_info": {
   "codemirror_mode": {
    "name": "ipython",
    "version": 3
   },
   "file_extension": ".py",
   "mimetype": "text/x-python",
   "name": "python",
   "nbconvert_exporter": "python",
   "pygments_lexer": "ipython3",
   "version": "3.8.2-final"
  },
  "orig_nbformat": 2,
  "kernelspec": {
   "name": "python3",
   "display_name": "Python 3.8.2 64-bit ('advent_of_code': pipenv)",
   "metadata": {
    "interpreter": {
     "hash": "23a6fd71fdabe2309bdef4429b2adf323ee3bd9935a4944b7d96f4896ab4c391"
    }
   }
  }
 },
 "nbformat": 4,
 "nbformat_minor": 2,
 "cells": [
  {
   "source": [
    "# Day 01\n",
    "\n",
    "Let's get the coins first."
   ],
   "cell_type": "markdown",
   "metadata": {}
  },
  {
   "cell_type": "code",
   "execution_count": 1,
   "metadata": {},
   "outputs": [],
   "source": [
    "import aocd\n",
    "expenses = [int(x) for x in aocd.get_data(day=1, year=2020).splitlines()]\n",
    "# expenses = [1721, 979, 366, 299, 675, 1456]\n",
    "expenses.sort()\n",
    "# print(expenses)\n"
   ]
  },
  {
   "source": [
    "## Part 1"
   ],
   "cell_type": "markdown",
   "metadata": {}
  },
  {
   "cell_type": "code",
   "execution_count": 2,
   "metadata": {},
   "outputs": [
    {
     "output_type": "stream",
     "name": "stdout",
     "text": [
      "337 x 1683 = 567171\n"
     ]
    }
   ],
   "source": [
    "for i in range(0, len(expenses)):\n",
    "    for j in range(i+1, len(expenses)):\n",
    "        if expenses[i] + expenses[j] == 2020:\n",
    "            print(expenses[i], \"x\", expenses[j], \"=\",expenses[i]*expenses[j])\n"
   ]
  },
  {
   "source": [
    "## Part 2"
   ],
   "cell_type": "markdown",
   "metadata": {}
  },
  {
   "cell_type": "code",
   "execution_count": 3,
   "metadata": {},
   "outputs": [
    {
     "output_type": "stream",
     "name": "stdout",
     "text": [
      "281 x 862 x 877 = 212428694\n"
     ]
    }
   ],
   "source": [
    "for i in range(0, len(expenses)):\n",
    "    for j in range(i+1, len(expenses)):\n",
    "        for k in range(j+1, len(expenses)):\n",
    "            if (expenses[i] + expenses[j] + expenses[k]) == 2020:\n",
    "                print(expenses[i], \"x\", expenses[j], \"x\", expenses[k], \"=\",expenses[i]*expenses[j]*expenses[k])"
   ]
  }
 ]
}