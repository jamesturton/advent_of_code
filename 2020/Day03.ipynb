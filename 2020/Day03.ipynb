{
 "metadata": {
  "language_info": {
   "codemirror_mode": {
    "name": "ipython",
    "version": 3
   },
   "file_extension": ".py",
   "mimetype": "text/x-python",
   "name": "python",
   "nbconvert_exporter": "python",
   "pygments_lexer": "ipython3",
   "version": "3.8.2-final"
  },
  "orig_nbformat": 2,
  "kernelspec": {
   "name": "python3",
   "display_name": "Python 3.8.2 64-bit ('advent_of_code': pipenv)",
   "metadata": {
    "interpreter": {
     "hash": "23a6fd71fdabe2309bdef4429b2adf323ee3bd9935a4944b7d96f4896ab4c391"
    }
   }
  }
 },
 "nbformat": 4,
 "nbformat_minor": 2,
 "cells": [
  {
   "source": [
    "# Day 03\n",
    "\n",
    "Let's get the coins first."
   ],
   "cell_type": "markdown",
   "metadata": {}
  },
  {
   "cell_type": "code",
   "execution_count": 1,
   "metadata": {
    "tags": []
   },
   "outputs": [],
   "source": [
    "import aocd\n",
    "trees = aocd.get_data(day=3, year=2020).splitlines()\n",
    "# print(trees)"
   ]
  },
  {
   "source": [
    "## Part 1"
   ],
   "cell_type": "markdown",
   "metadata": {}
  },
  {
   "cell_type": "code",
   "execution_count": 2,
   "metadata": {
    "tags": []
   },
   "outputs": [
    {
     "output_type": "stream",
     "name": "stdout",
     "text": [
      "268\n"
     ]
    }
   ],
   "source": [
    "count = 0\n",
    "for i in range(0, len(trees)):\n",
    "    if trees[i][(i * 3) % len(trees[i])] == \"#\":\n",
    "        count += 1\n",
    "\n",
    "print(count)"
   ]
  },
  {
   "source": [
    "## Part 2"
   ],
   "cell_type": "markdown",
   "metadata": {}
  },
  {
   "cell_type": "code",
   "execution_count": 3,
   "metadata": {},
   "outputs": [
    {
     "output_type": "stream",
     "name": "stdout",
     "text": [
      "3093068400\n"
     ]
    }
   ],
   "source": [
    "def slope(right, down):\n",
    "    count = 0\n",
    "    for i in range(0, int(len(trees) / down)):\n",
    "        if trees[i * down][(i * right) % len(trees[i * down])] == \"#\":\n",
    "            count += 1\n",
    "    return count\n",
    "\n",
    "print(slope(1, 1) * slope(3, 1) * slope(5, 1) * slope(7, 1) * slope(1, 2))"
   ]
  },
  {
   "cell_type": "code",
   "execution_count": null,
   "metadata": {},
   "outputs": [],
   "source": []
  }
 ]
}