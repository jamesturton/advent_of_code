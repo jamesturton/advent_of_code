{
 "metadata": {
  "language_info": {
   "codemirror_mode": {
    "name": "ipython",
    "version": 3
   },
   "file_extension": ".py",
   "mimetype": "text/x-python",
   "name": "python",
   "nbconvert_exporter": "python",
   "pygments_lexer": "ipython3",
   "version": "3.8.5-final"
  },
  "orig_nbformat": 2,
  "kernelspec": {
   "name": "python3",
   "display_name": "Python 3.8.5 64-bit ('advent_of_code': pipenv)",
   "metadata": {
    "interpreter": {
     "hash": "c77dab8e5dba0be8ca449042b270f2da0e2858f9654ab70368790415f165915a"
    }
   }
  }
 },
 "nbformat": 4,
 "nbformat_minor": 2,
 "cells": [
  {
   "source": [
    "# Day 06\n",
    "\n",
    "Let's get the data first."
   ],
   "cell_type": "markdown",
   "metadata": {}
  },
  {
   "cell_type": "code",
   "execution_count": 1,
   "metadata": {
    "tags": []
   },
   "outputs": [],
   "source": [
    "import aocd, string\n",
    "customs = aocd.get_data(day=6, year=2020).split('\\n\\n')\n",
    "# customs = \"\"\"abc\n",
    "\n",
    "# a\n",
    "# b\n",
    "# c\n",
    "\n",
    "# ab\n",
    "# ac\n",
    "\n",
    "# a\n",
    "# a\n",
    "# a\n",
    "# a\n",
    "\n",
    "# b\"\"\".split('\\n\\n')\n",
    "\n",
    "customs = [x.splitlines() for x in customs]\n",
    "# print(customs)"
   ]
  },
  {
   "source": [
    "## Part 1"
   ],
   "cell_type": "markdown",
   "metadata": {}
  },
  {
   "cell_type": "code",
   "execution_count": 2,
   "metadata": {
    "tags": []
   },
   "outputs": [
    {
     "output_type": "stream",
     "name": "stdout",
     "text": [
      "6885\n"
     ]
    }
   ],
   "source": [
    "count = 0\n",
    "for group in customs:\n",
    "    group_set = set()\n",
    "    for person in group:\n",
    "        group_set = group_set.union(set(list(person)))\n",
    "    count += len(group_set)\n",
    "\n",
    "print(count)"
   ]
  },
  {
   "source": [
    "## Part 2"
   ],
   "cell_type": "markdown",
   "metadata": {}
  },
  {
   "cell_type": "code",
   "execution_count": 3,
   "metadata": {
    "tags": []
   },
   "outputs": [
    {
     "output_type": "stream",
     "name": "stdout",
     "text": [
      "3550\n"
     ]
    }
   ],
   "source": [
    "count = 0\n",
    "for group in customs:\n",
    "    group_set = set(list(string.ascii_lowercase))\n",
    "    for person in group:\n",
    "        group_set = group_set.intersection(set(list(person)))\n",
    "    count += len(group_set)\n",
    "\n",
    "print(count)"
   ]
  }
 ]
}