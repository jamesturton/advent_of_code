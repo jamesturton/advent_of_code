{
 "metadata": {
  "language_info": {
   "codemirror_mode": {
    "name": "ipython",
    "version": 3
   },
   "file_extension": ".py",
   "mimetype": "text/x-python",
   "name": "python",
   "nbconvert_exporter": "python",
   "pygments_lexer": "ipython3",
   "version": "3.8.5-final"
  },
  "orig_nbformat": 2,
  "kernelspec": {
   "name": "python3",
   "display_name": "Python 3.8.5 64-bit ('advent_of_code': pipenv)",
   "metadata": {
    "interpreter": {
     "hash": "c77dab8e5dba0be8ca449042b270f2da0e2858f9654ab70368790415f165915a"
    }
   }
  }
 },
 "nbformat": 4,
 "nbformat_minor": 2,
 "cells": [
  {
   "source": [
    "# Day 05\n",
    "\n",
    "Let's get the data first."
   ],
   "cell_type": "markdown",
   "metadata": {}
  },
  {
   "cell_type": "code",
   "execution_count": 17,
   "metadata": {
    "tags": []
   },
   "outputs": [],
   "source": [
    "import aocd\n",
    "seats = aocd.get_data(day=5, year=2020).splitlines()\n",
    "# seats = ['BFFFBBFRRR', 'FFFBBBFRRR', 'BBFFBBFRLL']\n",
    "# print(seats)"
   ]
  },
  {
   "source": [
    "## Part 1"
   ],
   "cell_type": "markdown",
   "metadata": {}
  },
  {
   "cell_type": "code",
   "execution_count": 30,
   "metadata": {
    "tags": []
   },
   "outputs": [
    {
     "output_type": "stream",
     "name": "stdout",
     "text": [
      "890\n"
     ]
    }
   ],
   "source": [
    "max_seat = 0\n",
    "seat_ids = []\n",
    "for seat in seats:\n",
    "    front_back = int(seat[:7].replace('B', '1').replace('F', '0'), 2)\n",
    "    left_right = int(seat[7:].replace('R', '1').replace('L', '0'), 2)\n",
    "    seat_id = front_back * 8 + left_right\n",
    "    seat_ids.append(seat_id)\n",
    "    if seat_id > max_seat:\n",
    "        max_seat = seat_id\n",
    "    # print(front_back, left_right, seat_id)\n",
    "\n",
    "print(max(seat_ids))"
   ]
  },
  {
   "source": [
    "## Part 2"
   ],
   "cell_type": "markdown",
   "metadata": {}
  },
  {
   "cell_type": "code",
   "execution_count": 33,
   "metadata": {
    "tags": []
   },
   "outputs": [
    {
     "output_type": "stream",
     "name": "stdout",
     "text": [
      "{0, 1, 2, 3, 4, 5, 6, 7, 8, 9, 10, 11, 12, 13, 14, 15, 16, 17, 18, 19, 20, 21, 22, 23, 24, 25, 26, 27, 28, 29, 30, 31, 32, 33, 34, 35, 36, 37, 38, 39, 40, 41, 42, 43, 44, 45, 46, 47, 48, 49, 50, 51, 52, 53, 54, 55, 56, 57, 58, 59, 60, 61, 62, 63, 64, 65, 66, 67, 68, 69, 70, 71, 72, 73, 74, 75, 76, 77, 78, 79, 80, 81, 82, 83, 84, 651}\n"
     ]
    }
   ],
   "source": [
    "avaliable_seats = list(range(max_seat+1))\n",
    "print(set(avaliable_seats) - set(seat_ids))"
   ]
  }
 ]
}