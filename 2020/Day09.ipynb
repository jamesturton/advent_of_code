{
 "metadata": {
  "language_info": {
   "codemirror_mode": {
    "name": "ipython",
    "version": 3
   },
   "file_extension": ".py",
   "mimetype": "text/x-python",
   "name": "python",
   "nbconvert_exporter": "python",
   "pygments_lexer": "ipython3",
   "version": "3.8.5-final"
  },
  "orig_nbformat": 2,
  "kernelspec": {
   "name": "python3",
   "display_name": "Python 3.8.5 64-bit ('advent_of_code': pipenv)",
   "metadata": {
    "interpreter": {
     "hash": "c77dab8e5dba0be8ca449042b270f2da0e2858f9654ab70368790415f165915a"
    }
   }
  }
 },
 "nbformat": 4,
 "nbformat_minor": 2,
 "cells": [
  {
   "source": [
    "# Day 09\n",
    "\n",
    "Let's get the data first."
   ],
   "cell_type": "markdown",
   "metadata": {}
  },
  {
   "cell_type": "code",
   "execution_count": 1,
   "metadata": {
    "tags": []
   },
   "outputs": [],
   "source": [
    "import aocd\n",
    "data = aocd.get_data(day=9, year=2020)\n",
    "preamble = 25\n",
    "\n",
    "# data = \"\"\"35\\n20\\n15\\n25\\n47\\n40\\n62\\n55\\n65\\n95\\n102\\n117\\n150\\n182\\n127\\n219\\n299\\n277\\n309\\n576\"\"\"\n",
    "# preamble = 5\n",
    "\n",
    "data = [int(x) for x in data.splitlines()]\n",
    "# data"
   ]
  },
  {
   "source": [
    "## Part 1"
   ],
   "cell_type": "markdown",
   "metadata": {}
  },
  {
   "cell_type": "code",
   "execution_count": 2,
   "metadata": {
    "tags": []
   },
   "outputs": [
    {
     "output_type": "stream",
     "name": "stdout",
     "text": [
      "90433990\n"
     ]
    }
   ],
   "source": [
    "def isasum(target, values):\n",
    "    for i in range(len(values) - 1):\n",
    "        for j in range(i + 1, len(values)):\n",
    "            #print(' - Trying:', values[i], values[j])\n",
    "            if (values[i] + values[j]) == target:\n",
    "                return True\n",
    "    return False\n",
    "\n",
    "for i in range(preamble, len(data)):\n",
    "    # print(data[i], '-', data[i-preamble:i])\n",
    "    if not isasum(data[i], data[i-preamble:i]):\n",
    "        print(data[i])\n",
    "        break"
   ]
  },
  {
   "source": [
    "## Part 2"
   ],
   "cell_type": "markdown",
   "metadata": {}
  },
  {
   "source": [
    "outlier = 90433990\n",
    "\n",
    "def isasummulti(target, values, length):\n",
    "    for i in range(len(values) - 1):\n",
    "        # print(' - Trying:', values[i:i+length], '==', target)\n",
    "        if (sum(values[i:i+length])) == target:\n",
    "            return values[i:i+length]\n",
    "    return False\n",
    "\n",
    "for i in range(2, len(data)):\n",
    "    # print(data[i], '-', data[i-preamble:i])\n",
    "    if isasummulti(outlier, data, i):\n",
    "        print(min(isasummulti(outlier, data, i)) + max(isasummulti(outlier, data, i)))\n",
    "        break"
   ],
   "cell_type": "code",
   "metadata": {
    "tags": []
   },
   "execution_count": 3,
   "outputs": [
    {
     "output_type": "stream",
     "name": "stdout",
     "text": [
      "11691646\n"
     ]
    }
   ]
  }
 ]
}