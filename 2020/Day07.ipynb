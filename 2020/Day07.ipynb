{
 "metadata": {
  "language_info": {
   "codemirror_mode": {
    "name": "ipython",
    "version": 3
   },
   "file_extension": ".py",
   "mimetype": "text/x-python",
   "name": "python",
   "nbconvert_exporter": "python",
   "pygments_lexer": "ipython3",
   "version": "3.8.5-final"
  },
  "orig_nbformat": 2,
  "kernelspec": {
   "name": "python3",
   "display_name": "Python 3.8.5 64-bit ('advent_of_code': pipenv)",
   "metadata": {
    "interpreter": {
     "hash": "c77dab8e5dba0be8ca449042b270f2da0e2858f9654ab70368790415f165915a"
    }
   }
  }
 },
 "nbformat": 4,
 "nbformat_minor": 2,
 "cells": [
  {
   "source": [
    "# Day 07\n",
    "\n",
    "Let's get the data first."
   ],
   "cell_type": "markdown",
   "metadata": {}
  },
  {
   "cell_type": "code",
   "execution_count": 1,
   "metadata": {
    "tags": []
   },
   "outputs": [],
   "source": [
    "import aocd\n",
    "rules = aocd.get_data(day=7, year=2020).splitlines()\n",
    "\n",
    "# rules = \"\"\"light red bags contain 1 bright white bag, 2 muted yellow bags.\n",
    "# dark orange bags contain 3 bright white bags, 4 muted yellow bags.\n",
    "# bright white bags contain 1 shiny gold bag.\n",
    "# muted yellow bags contain 2 shiny gold bags, 9 faded blue bags.\n",
    "# shiny gold bags contain 1 dark olive bag, 2 vibrant plum bags.\n",
    "# dark olive bags contain 3 faded blue bags, 4 dotted black bags.\n",
    "# vibrant plum bags contain 5 faded blue bags, 6 dotted black bags.\n",
    "# faded blue bags contain no other bags.\n",
    "# dotted black bags contain no other bags.\"\"\".splitlines()\n",
    "\n",
    "# rules = \"\"\"shiny gold bags contain 2 dark red bags.\n",
    "# dark red bags contain 2 dark orange bags.\n",
    "# dark orange bags contain 2 dark yellow bags.\n",
    "# dark yellow bags contain 2 dark green bags.\n",
    "# dark green bags contain 2 dark blue bags.\n",
    "# dark blue bags contain 2 dark violet bags.\n",
    "# dark violet bags contain no other bags.\"\"\".splitlines()\n",
    "\n",
    "rule_dict = {}\n",
    "for rule in rules:\n",
    "    colour = rule.split(' bags contain ')[0]\n",
    "    contains = rule.split(' bags contain ')[1]\n",
    "    if contains == 'no other bags.':\n",
    "        contains = []\n",
    "    else:\n",
    "        contains = contains[:-1].split(', ')\n",
    "        contains = [{'qty': x.split(' ')[0], 'bag': ' '.join(x.split(' ')[1:-1])} for x in contains]\n",
    "        # contains = [' '.join(x.split(' ')[1:-1]) for x in contains]\n",
    "    # print(colour)\n",
    "    rule_dict[colour] = contains\n",
    "\n",
    "# rule_dict"
   ]
  },
  {
   "source": [
    "## Part 1"
   ],
   "cell_type": "markdown",
   "metadata": {}
  },
  {
   "cell_type": "code",
   "execution_count": 2,
   "metadata": {
    "tags": []
   },
   "outputs": [
    {
     "output_type": "stream",
     "name": "stdout",
     "text": [
      "112\n"
     ]
    }
   ],
   "source": [
    "def contains_gold(bag):\n",
    "    # print('contains_gold('+bag+')')\n",
    "    return_val = False\n",
    "    for inner_bag in rule_dict[bag]:\n",
    "        if inner_bag['bag'] == 'shiny gold' or contains_gold(inner_bag['bag']):\n",
    "            return_val = True\n",
    "    return return_val\n",
    "\n",
    "count = 0\n",
    "for colour, contains in rule_dict.items():\n",
    "    # print(colour, contains_gold(colour))\n",
    "    if contains_gold(colour):\n",
    "        count += 1\n",
    "\n",
    "print(count)"
   ]
  },
  {
   "source": [
    "## Part 2"
   ],
   "cell_type": "markdown",
   "metadata": {}
  },
  {
   "source": [
    "def count_bags(bag):\n",
    "    return_val = 1\n",
    "    for inner_bag in rule_dict[bag]:\n",
    "        return_val += int(inner_bag['qty']) * count_bags(inner_bag['bag'])\n",
    "    return return_val\n",
    "\n",
    "print(count_bags('shiny gold')-1)"
   ],
   "cell_type": "code",
   "metadata": {
    "tags": []
   },
   "execution_count": 3,
   "outputs": [
    {
     "output_type": "stream",
     "name": "stdout",
     "text": [
      "6260\n"
     ]
    }
   ]
  }
 ]
}