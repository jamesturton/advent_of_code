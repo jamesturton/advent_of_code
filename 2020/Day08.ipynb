{
 "metadata": {
  "language_info": {
   "codemirror_mode": {
    "name": "ipython",
    "version": 3
   },
   "file_extension": ".py",
   "mimetype": "text/x-python",
   "name": "python",
   "nbconvert_exporter": "python",
   "pygments_lexer": "ipython3",
   "version": "3.8.5-final"
  },
  "orig_nbformat": 2,
  "kernelspec": {
   "name": "python3",
   "display_name": "Python 3.8.5 64-bit ('advent_of_code': pipenv)",
   "metadata": {
    "interpreter": {
     "hash": "c77dab8e5dba0be8ca449042b270f2da0e2858f9654ab70368790415f165915a"
    }
   }
  }
 },
 "nbformat": 4,
 "nbformat_minor": 2,
 "cells": [
  {
   "source": [
    "# Day 08\n",
    "\n",
    "Let's get the data first."
   ],
   "cell_type": "markdown",
   "metadata": {}
  },
  {
   "cell_type": "code",
   "execution_count": 1,
   "metadata": {
    "tags": []
   },
   "outputs": [],
   "source": [
    "import aocd\n",
    "code = aocd.get_data(day=8, year=2020)\n",
    "\n",
    "# code = \"\"\"nop +0\\nacc +1\\njmp +4\\nacc +3\\njmp -3\\nacc -99\\nacc +1\\njmp -4\\nacc +6\"\"\"\n",
    "\n",
    "code = code.splitlines()\n",
    "# code"
   ]
  },
  {
   "source": [
    "## Part 1"
   ],
   "cell_type": "markdown",
   "metadata": {}
  },
  {
   "cell_type": "code",
   "execution_count": 2,
   "metadata": {
    "tags": []
   },
   "outputs": [
    {
     "output_type": "stream",
     "name": "stdout",
     "text": [
      "1709\n"
     ]
    }
   ],
   "source": [
    "def parse_code(line, accumulator, pc):\n",
    "    cmd = line.split(' ')[0]\n",
    "    arg = int(line.split(' ')[1])\n",
    "    # print(cmd, arg)\n",
    "\n",
    "    if cmd == 'nop':\n",
    "        pc += 1\n",
    "    elif cmd == 'acc':\n",
    "        accumulator += arg\n",
    "        pc += 1\n",
    "    elif cmd == 'jmp':\n",
    "        # print('-- jmp pc', arg, 'from', pc , 'to', pc + arg)\n",
    "        pc += arg\n",
    "\n",
    "    return accumulator, pc\n",
    "\n",
    "accumulator = 0\n",
    "pc = 0\n",
    "visited_lines = []\n",
    "i = 0\n",
    "\n",
    "# for i in range(len(code)):\n",
    "#     print('i', i, code[i])\n",
    "# print('')\n",
    "\n",
    "\n",
    "\n",
    "while True:\n",
    "    # print('i', i, 'pc', pc, code[pc])\n",
    "    if pc in visited_lines:\n",
    "        break\n",
    "    visited_lines.append(pc)\n",
    "    accumulator, pc = parse_code(code[pc], accumulator, pc)\n",
    "    i += 1\n",
    "\n",
    "print(accumulator)\n"
   ]
  },
  {
   "source": [
    "## Part 2"
   ],
   "cell_type": "markdown",
   "metadata": {}
  },
  {
   "source": [
    "def run(code):\n",
    "    accumulator = 0\n",
    "    pc = 0\n",
    "    visited_lines = []\n",
    "    i = 0\n",
    "\n",
    "    while True:\n",
    "        # print('i', i, 'pc', pc, code[pc])\n",
    "        if pc in visited_lines:\n",
    "            # print('Infinite loop!')\n",
    "            return False, accumulator\n",
    "        if pc >= len(code):\n",
    "            # print('Program terminates')\n",
    "            return True, accumulator            \n",
    "        visited_lines.append(pc)\n",
    "        accumulator, pc = parse_code(code[pc], accumulator, pc)\n",
    "        i += 1\n",
    "        \n",
    "run(code)\n",
    "\n",
    "for i, line in enumerate(code):\n",
    "    if line.split(' ')[0] == 'jmp' or line.split(' ')[0] == 'nop':\n",
    "        mod_code = code.copy()\n",
    "        if line.split(' ')[0] == 'jmp':\n",
    "            mod_code[i] = 'nop '+line.split(' ')[1]\n",
    "        elif line.split(' ')[0] == 'nop':\n",
    "            mod_code[i] = 'jmp '+line.split(' ')[1]\n",
    "        status, accumulator = run(mod_code)\n",
    "        if status:\n",
    "            print(accumulator)\n",
    "    \n",
    "    \n"
   ],
   "cell_type": "code",
   "metadata": {
    "tags": []
   },
   "execution_count": 3,
   "outputs": [
    {
     "output_type": "stream",
     "name": "stdout",
     "text": [
      "1976\n"
     ]
    }
   ]
  }
 ]
}