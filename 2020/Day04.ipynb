{
 "metadata": {
  "language_info": {
   "codemirror_mode": {
    "name": "ipython",
    "version": 3
   },
   "file_extension": ".py",
   "mimetype": "text/x-python",
   "name": "python",
   "nbconvert_exporter": "python",
   "pygments_lexer": "ipython3",
   "version": "3.8.5-final"
  },
  "orig_nbformat": 2,
  "kernelspec": {
   "name": "python3",
   "display_name": "Python 3.8.5 64-bit ('advent_of_code': pipenv)",
   "metadata": {
    "interpreter": {
     "hash": "c77dab8e5dba0be8ca449042b270f2da0e2858f9654ab70368790415f165915a"
    }
   }
  }
 },
 "nbformat": 4,
 "nbformat_minor": 2,
 "cells": [
  {
   "source": [
    "# Day 04\n",
    "\n",
    "Let's get the data first."
   ],
   "cell_type": "markdown",
   "metadata": {}
  },
  {
   "cell_type": "code",
   "execution_count": 1,
   "metadata": {
    "tags": []
   },
   "outputs": [],
   "source": [
    "import aocd, json, re\n",
    "passports = aocd.get_data(day=4, year=2020).split('\\n\\n')\n",
    "\n",
    "# passports = \"\"\"pid:087499704 hgt:74in ecl:grn iyr:2012 eyr:2030 byr:1980\n",
    "# hcl:#623a2f\n",
    "\n",
    "# eyr:2029 ecl:blu cid:129 byr:1989\n",
    "# iyr:2014 pid:896056539 hcl:#a97842 hgt:165cm\n",
    "\n",
    "# hcl:#888785\n",
    "# hgt:164cm byr:2001 iyr:2015 cid:88\n",
    "# pid:545766238 ecl:hzl\n",
    "# eyr:2022\n",
    "\n",
    "# iyr:2010 hgt:158cm hcl:#b6652a ecl:blu byr:1944 eyr:2021 pid:093154719\"\"\".split('\\n\\n')\n",
    "\n",
    "for i, passport in enumerate(passports):\n",
    "    passport = '{\\\"' + passport.replace('\\n', ' ').replace(' ', '\", \"').replace(':', '\":\"') + '\\\"}'\n",
    "    passport = json.loads(passport)\n",
    "    passports[i] = passport\n",
    "\n",
    "# print(passports)"
   ]
  },
  {
   "source": [
    "## Part 1"
   ],
   "cell_type": "markdown",
   "metadata": {}
  },
  {
   "cell_type": "code",
   "execution_count": 2,
   "metadata": {
    "tags": []
   },
   "outputs": [
    {
     "output_type": "stream",
     "name": "stdout",
     "text": [
      "247\n"
     ]
    }
   ],
   "source": [
    "req_fields = ['byr', 'iyr', 'eyr', 'hgt', 'hcl', 'ecl', 'pid']\n",
    "invalid = 0\n",
    "\n",
    "for passport in passports:\n",
    "    for field in req_fields:\n",
    "        if not field in passport:\n",
    "            invalid += 1\n",
    "            break\n",
    "\n",
    "print(len(passports) - invalid)"
   ]
  },
  {
   "source": [
    "## Part 2"
   ],
   "cell_type": "markdown",
   "metadata": {}
  },
  {
   "cell_type": "code",
   "execution_count": 3,
   "metadata": {
    "tags": []
   },
   "outputs": [
    {
     "output_type": "stream",
     "name": "stdout",
     "text": [
      "145\n"
     ]
    }
   ],
   "source": [
    "def validate(field, value):\n",
    "    if field == 'byr':\n",
    "        return int(value) >= 1920 and int(value) <= 2002\n",
    "    elif field == 'iyr':\n",
    "        return int(value) >= 2010 and int(value) <= 2020\n",
    "    elif field == 'eyr':\n",
    "        return int(value) >= 2020 and int(value) <= 2030\n",
    "    elif field == 'hgt':\n",
    "        if value[-2:] == 'cm':\n",
    "            return int(value[:-2]) >= 150 and int(value[:-2]) <= 193\n",
    "        elif value[-2:] == 'in':\n",
    "            return int(value[:-2]) >= 59 and int(value[:-2]) <= 76\n",
    "        else:\n",
    "            return False\n",
    "    elif field == 'hcl':\n",
    "        return bool(len(re.findall('^#[0-9a-f]{6}$', value)))\n",
    "    elif field == 'ecl':\n",
    "        return value in ['amb', 'blu', 'brn', 'gry', 'grn', 'hzl', 'oth']\n",
    "    elif field == 'pid':\n",
    "        return bool(len(re.findall('^[0-9]{9}$', value)))\n",
    "    elif field == 'cid':\n",
    "        return True\n",
    "    else:\n",
    "        return False\n",
    "\n",
    "# tests = [{'byr': '2002'}, {'byr': '2003'}, {'hgt': '60in'}, {'hgt': '190cm'}, {'hgt': '190in'}, {'hgt': '190'}, {'hcl': '#123abc'}, {'hcl': '#123abz'}, {'hcl': '123abc'}, {'ecl': 'brn'}, {'ecl': 'wat'}, {'pid': '000000001'}, {'pid': '0123456789'}]\n",
    "\n",
    "# for test in tests:\n",
    "#     for field, value in test.items() :\n",
    "#         print(field, validate(field, value), value)\n",
    "\n",
    "req_fields = ['byr', 'iyr', 'eyr', 'hgt', 'hcl', 'ecl', 'pid']\n",
    "invalid = 0\n",
    "\n",
    "for passport in passports:\n",
    "    passport_valid = True\n",
    "    # print(passport)\n",
    "    for field in req_fields:\n",
    "        if not field in passport:\n",
    "            passport_valid = False\n",
    "    # print('req_fields', passport_valid)\n",
    "    for field, value in passport.items() :\n",
    "        # print(field, validate(field, value), value)\n",
    "        if not validate(field, value):\n",
    "            passport_valid = False\n",
    "    if passport_valid == False:\n",
    "        invalid += 1\n",
    "\n",
    "print(len(passports) - invalid)"
   ]
  }
 ]
}