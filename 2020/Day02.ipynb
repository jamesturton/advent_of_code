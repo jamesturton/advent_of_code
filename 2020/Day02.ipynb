{
 "metadata": {
  "language_info": {
   "codemirror_mode": {
    "name": "ipython",
    "version": 3
   },
   "file_extension": ".py",
   "mimetype": "text/x-python",
   "name": "python",
   "nbconvert_exporter": "python",
   "pygments_lexer": "ipython3",
   "version": "3.8.2-final"
  },
  "orig_nbformat": 2,
  "kernelspec": {
   "name": "python3",
   "display_name": "Python 3.8.2 64-bit ('advent_of_code': pipenv)",
   "metadata": {
    "interpreter": {
     "hash": "23a6fd71fdabe2309bdef4429b2adf323ee3bd9935a4944b7d96f4896ab4c391"
    }
   }
  }
 },
 "nbformat": 4,
 "nbformat_minor": 2,
 "cells": [
  {
   "source": [
    "# Day 02\n",
    "\n",
    "Let's get the coins first."
   ],
   "cell_type": "markdown",
   "metadata": {}
  },
  {
   "cell_type": "code",
   "execution_count": 3,
   "metadata": {
    "tags": []
   },
   "outputs": [],
   "source": [
    "import aocd\n",
    "passwords = [{\"condition\": x.split(\": \")[0], \"password\": x.split(\": \")[1]} for x in aocd.get_data(day=2, year=2020).splitlines()]\n",
    "# print(passwords)"
   ]
  },
  {
   "source": [
    "## Part 1"
   ],
   "cell_type": "markdown",
   "metadata": {}
  },
  {
   "cell_type": "code",
   "execution_count": 18,
   "metadata": {
    "tags": []
   },
   "outputs": [
    {
     "output_type": "stream",
     "name": "stdout",
     "text": [
      "valid: 434\n"
     ]
    }
   ],
   "source": [
    "valid = 0\n",
    "for password in passwords:\n",
    "    password[\"min\"] = int(password[\"condition\"].split(\" \")[0].split(\"-\")[0])\n",
    "    password[\"max\"] = int(password[\"condition\"].split(\" \")[0].split(\"-\")[1])\n",
    "    password[\"character\"] = password[\"condition\"].split(\" \")[1]\n",
    "    password[\"count\"] = password[\"password\"].count(password[\"character\"])\n",
    "    if (password[\"count\"] >= password[\"min\"]) and (password[\"count\"] <= password[\"max\"]):\n",
    "        valid = valid + 1\n",
    "\n",
    "print(\"valid:\", valid)"
   ]
  },
  {
   "source": [
    "## Part 2"
   ],
   "cell_type": "markdown",
   "metadata": {}
  },
  {
   "cell_type": "code",
   "execution_count": 19,
   "metadata": {},
   "outputs": [
    {
     "output_type": "stream",
     "name": "stdout",
     "text": [
      "valid: 509\n"
     ]
    }
   ],
   "source": [
    "valid = 0\n",
    "for password in passwords:\n",
    "    if (password[\"password\"][password[\"min\"] - 1] == password[\"character\"]) != (password[\"password\"][password[\"max\"] - 1] == password[\"character\"]):\n",
    "        valid = valid + 1\n",
    "\n",
    "print(\"valid:\", valid)"
   ]
  }
 ]
}